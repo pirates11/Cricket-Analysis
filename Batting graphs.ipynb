{
 "cells": [
  {
   "cell_type": "code",
   "execution_count": 98,
   "metadata": {},
   "outputs": [],
   "source": [
    "import pandas as pd\n",
    "import numpy as np"
   ]
  },
  {
   "cell_type": "code",
   "execution_count": 168,
   "metadata": {},
   "outputs": [
    {
     "name": "stderr",
     "output_type": "stream",
     "text": [
      "C:\\Users\\krris\\Anaconda3\\lib\\site-packages\\IPython\\core\\interactiveshell.py:2728: DtypeWarning: Columns (4,5) have mixed types. Specify dtype option on import or set low_memory=False.\n",
      "  interactivity=interactivity, compiler=compiler, result=result)\n"
     ]
    }
   ],
   "source": [
    "df=pd.read_csv(r\"C:\\Users\\krris\\Desktop\\XLRI-Cricket\\Final datasets(Parma)\\batting.csv\", sep=',')"
   ]
  },
  {
   "cell_type": "code",
   "execution_count": 6,
   "metadata": {},
   "outputs": [
    {
     "data": {
      "text/html": [
       "<div>\n",
       "<style scoped>\n",
       "    .dataframe tbody tr th:only-of-type {\n",
       "        vertical-align: middle;\n",
       "    }\n",
       "\n",
       "    .dataframe tbody tr th {\n",
       "        vertical-align: top;\n",
       "    }\n",
       "\n",
       "    .dataframe thead th {\n",
       "        text-align: right;\n",
       "    }\n",
       "</style>\n",
       "<table border=\"1\" class=\"dataframe\">\n",
       "  <thead>\n",
       "    <tr style=\"text-align: right;\">\n",
       "      <th></th>\n",
       "      <th>names</th>\n",
       "      <th>runs</th>\n",
       "      <th>mins</th>\n",
       "      <th>BF</th>\n",
       "      <th>fours</th>\n",
       "      <th>sixes</th>\n",
       "      <th>SR</th>\n",
       "      <th>inns</th>\n",
       "      <th>opposition</th>\n",
       "      <th>Ground</th>\n",
       "      <th>SDate</th>\n",
       "      <th>year</th>\n",
       "    </tr>\n",
       "  </thead>\n",
       "  <tbody>\n",
       "    <tr>\n",
       "      <th>0</th>\n",
       "      <td>JH Edrich (ENG)</td>\n",
       "      <td>82</td>\n",
       "      <td>150</td>\n",
       "      <td>119</td>\n",
       "      <td>4</td>\n",
       "      <td>0</td>\n",
       "      <td>68.9</td>\n",
       "      <td>1</td>\n",
       "      <td>v Australia</td>\n",
       "      <td>Melbourne</td>\n",
       "      <td>05-Jan-71</td>\n",
       "      <td>1971</td>\n",
       "    </tr>\n",
       "    <tr>\n",
       "      <th>1</th>\n",
       "      <td>IM Chappell (AUS)</td>\n",
       "      <td>60</td>\n",
       "      <td>132</td>\n",
       "      <td>103</td>\n",
       "      <td>5</td>\n",
       "      <td>1</td>\n",
       "      <td>58.25</td>\n",
       "      <td>2</td>\n",
       "      <td>v England</td>\n",
       "      <td>Melbourne</td>\n",
       "      <td>05-Jan-71</td>\n",
       "      <td>1971</td>\n",
       "    </tr>\n",
       "    <tr>\n",
       "      <th>2</th>\n",
       "      <td>KD Walters (AUS)</td>\n",
       "      <td>41</td>\n",
       "      <td>59</td>\n",
       "      <td>51</td>\n",
       "      <td>6</td>\n",
       "      <td>0</td>\n",
       "      <td>80.39</td>\n",
       "      <td>2</td>\n",
       "      <td>v England</td>\n",
       "      <td>Melbourne</td>\n",
       "      <td>05-Jan-71</td>\n",
       "      <td>1971</td>\n",
       "    </tr>\n",
       "    <tr>\n",
       "      <th>3</th>\n",
       "      <td>WM Lawry (AUS)</td>\n",
       "      <td>27</td>\n",
       "      <td>51</td>\n",
       "      <td>49</td>\n",
       "      <td>0</td>\n",
       "      <td>0</td>\n",
       "      <td>55.1</td>\n",
       "      <td>2</td>\n",
       "      <td>v England</td>\n",
       "      <td>Melbourne</td>\n",
       "      <td>05-Jan-71</td>\n",
       "      <td>1971</td>\n",
       "    </tr>\n",
       "    <tr>\n",
       "      <th>4</th>\n",
       "      <td>KWR Fletcher (ENG)</td>\n",
       "      <td>24</td>\n",
       "      <td>60</td>\n",
       "      <td>47</td>\n",
       "      <td>1</td>\n",
       "      <td>0</td>\n",
       "      <td>51.06</td>\n",
       "      <td>1</td>\n",
       "      <td>v Australia</td>\n",
       "      <td>Melbourne</td>\n",
       "      <td>05-Jan-71</td>\n",
       "      <td>1971</td>\n",
       "    </tr>\n",
       "  </tbody>\n",
       "</table>\n",
       "</div>"
      ],
      "text/plain": [
       "                names runs mins   BF fours sixes     SR  inns   opposition  \\\n",
       "0     JH Edrich (ENG)   82  150  119     4     0   68.9     1  v Australia   \n",
       "1   IM Chappell (AUS)   60  132  103     5     1  58.25     2    v England   \n",
       "2    KD Walters (AUS)   41   59   51     6     0  80.39     2    v England   \n",
       "3      WM Lawry (AUS)   27   51   49     0     0   55.1     2    v England   \n",
       "4  KWR Fletcher (ENG)   24   60   47     1     0  51.06     1  v Australia   \n",
       "\n",
       "      Ground      SDate  year  \n",
       "0  Melbourne  05-Jan-71  1971  \n",
       "1  Melbourne  05-Jan-71  1971  \n",
       "2  Melbourne  05-Jan-71  1971  \n",
       "3  Melbourne  05-Jan-71  1971  \n",
       "4  Melbourne  05-Jan-71  1971  "
      ]
     },
     "execution_count": 6,
     "metadata": {},
     "output_type": "execute_result"
    }
   ],
   "source": [
    "df.head()"
   ]
  },
  {
   "cell_type": "code",
   "execution_count": 69,
   "metadata": {},
   "outputs": [],
   "source": [
    "unique_years=df.year.unique()"
   ]
  },
  {
   "cell_type": "code",
   "execution_count": 70,
   "metadata": {
    "scrolled": false
   },
   "outputs": [
    {
     "data": {
      "text/plain": [
       "array([1971, 1972, 1973, 1974, 1975, 1976, 1977, 1978, 1979, 1980, 1981,\n",
       "       1982, 1983, 1984, 1985, 1986, 1987, 1988, 1989, 1990, 1991, 1992,\n",
       "       1993, 1994, 1995, 1996, 1997, 1998, 1999, 2000, 2001, 2002, 2003,\n",
       "       2004, 2005, 2006, 2007, 2008, 2009, 2010, 2011, 2012, 2013, 2014,\n",
       "       2015, 2016, 2017, 2018], dtype=int64)"
      ]
     },
     "execution_count": 70,
     "metadata": {},
     "output_type": "execute_result"
    }
   ],
   "source": [
    "unique_years"
   ]
  },
  {
   "cell_type": "code",
   "execution_count": 55,
   "metadata": {},
   "outputs": [],
   "source": [
    "df['SR']=df['SR'].astype(str)"
   ]
  },
  {
   "cell_type": "code",
   "execution_count": 63,
   "metadata": {},
   "outputs": [],
   "source": [
    "df=df[df.SR!='-']"
   ]
  },
  {
   "cell_type": "code",
   "execution_count": 65,
   "metadata": {},
   "outputs": [
    {
     "name": "stderr",
     "output_type": "stream",
     "text": [
      "C:\\Users\\krris\\Anaconda3\\lib\\site-packages\\ipykernel_launcher.py:1: SettingWithCopyWarning: \n",
      "A value is trying to be set on a copy of a slice from a DataFrame.\n",
      "Try using .loc[row_indexer,col_indexer] = value instead\n",
      "\n",
      "See the caveats in the documentation: http://pandas.pydata.org/pandas-docs/stable/indexing.html#indexing-view-versus-copy\n",
      "  \"\"\"Entry point for launching an IPython kernel.\n"
     ]
    }
   ],
   "source": [
    "df['SR']=df['SR'].astype(float)"
   ]
  },
  {
   "cell_type": "code",
   "execution_count": 66,
   "metadata": {},
   "outputs": [
    {
     "name": "stdout",
     "output_type": "stream",
     "text": [
      "<class 'pandas.core.frame.DataFrame'>\n",
      "Int64Index: 69667 entries, 0 to 70456\n",
      "Data columns (total 12 columns):\n",
      "names         69667 non-null object\n",
      "runs          69667 non-null object\n",
      "mins          69667 non-null object\n",
      "BF            69667 non-null int64\n",
      "fours         69667 non-null object\n",
      "sixes         69667 non-null object\n",
      "SR            69667 non-null float64\n",
      "inns          69667 non-null int64\n",
      "opposition    69667 non-null object\n",
      "Ground        69667 non-null object\n",
      "SDate         69667 non-null object\n",
      "year          69667 non-null int64\n",
      "dtypes: float64(1), int64(3), object(8)\n",
      "memory usage: 6.9+ MB\n"
     ]
    }
   ],
   "source": [
    "df.info()"
   ]
  },
  {
   "cell_type": "code",
   "execution_count": 112,
   "metadata": {},
   "outputs": [],
   "source": [
    "average1=pd.Series()\n",
    "for i in unique_years:\n",
    "    temp_df=df[df.year==i]\n",
    "    total_sr=sum(temp_df.SR)\n",
    "    avg=total_sr/len(temp_df)\n",
    "    average1=average1.append(pd.Series([avg]))"
   ]
  },
  {
   "cell_type": "code",
   "execution_count": 119,
   "metadata": {},
   "outputs": [],
   "source": [
    "SR_df=pd.DataFrame({'year': unique_years, 'average_SR': average1})"
   ]
  },
  {
   "cell_type": "code",
   "execution_count": 121,
   "metadata": {},
   "outputs": [],
   "source": [
    "from matplotlib.pyplot import *"
   ]
  },
  {
   "cell_type": "code",
   "execution_count": 222,
   "metadata": {},
   "outputs": [
    {
     "data": {
      "text/plain": [
       "[<matplotlib.lines.Line2D at 0x14a2117b6d8>]"
      ]
     },
     "execution_count": 222,
     "metadata": {},
     "output_type": "execute_result"
    },
    {
     "data": {
      "image/png": "[encoded data removed]",
      "text/plain": [
       "<matplotlib.figure.Figure at 0x14a21115940>"
      ]
     },
     "metadata": {},
     "output_type": "display_data"
    }
   ],
   "source": [
    "matplotlib.pyplot.plot(SR_df.year, SR_df.average_SR)"
   ]
  },
  {
   "cell_type": "code",
   "execution_count": 225,
   "metadata": {},
   "outputs": [],
   "source": [
    "#removing NA values from 'fours' column\n",
    "df['fours']=df['fours'].astype('str')\n",
    "df=df[df.fours!='-']\n",
    "df['fours']=df['fours'].astype('int')"
   ]
  },
  {
   "cell_type": "code",
   "execution_count": 226,
   "metadata": {
    "scrolled": true
   },
   "outputs": [
    {
     "data": {
      "text/plain": [
       "[<matplotlib.lines.Line2D at 0x14a21984d30>]"
      ]
     },
     "execution_count": 226,
     "metadata": {},
     "output_type": "execute_result"
    },
    {
     "data": {
      "image/png": "[encoded data removed]",
      "text/plain": [
       "<matplotlib.figure.Figure at 0x14a219836a0>"
      ]
     },
     "metadata": {},
     "output_type": "display_data"
    }
   ],
   "source": [
    "average_fours=pd.Series()\n",
    "for i in unique_years:\n",
    "    temp_df=df[df.year==i]\n",
    "    total_sr=sum(temp_df.fours)\n",
    "    avg=total_sr/len(temp_df)\n",
    "    average_fours=average_fours.append(pd.Series([avg]))\n",
    "\n",
    "SR_fours=pd.DataFrame({'year': unique_years, 'average_fours': average_fours})\n",
    "matplotlib.pyplot.plot(SR_fours.year, SR_fours.average_fours)"
   ]
  },
  {
   "cell_type": "code",
   "execution_count": 227,
   "metadata": {},
   "outputs": [],
   "source": [
    "#removing NA values \n",
    "df['sixes']=df['sixes'].astype('str')\n",
    "df=df[df.sixes!='-']\n",
    "df['sixes']=df['sixes'].astype('int')"
   ]
  },
  {
   "cell_type": "code",
   "execution_count": 228,
   "metadata": {},
   "outputs": [
    {
     "data": {
      "text/plain": [
       "[<matplotlib.lines.Line2D at 0x14a21a3f4a8>]"
      ]
     },
     "execution_count": 228,
     "metadata": {},
     "output_type": "execute_result"
    },
    {
     "data": {
      "image/png": "[encoded data removed]",
      "text/plain": [
       "<matplotlib.figure.Figure at 0x14a20ffa5c0>"
      ]
     },
     "metadata": {},
     "output_type": "display_data"
    }
   ],
   "source": [
    "average_sixes=pd.Series()\n",
    "for i in unique_years:\n",
    "    temp_df=df[df.year==i]\n",
    "    total_sr=sum(temp_df.sixes)\n",
    "    avg=total_sr/len(temp_df)\n",
    "    average_sixes=average_sixes.append(pd.Series([avg]))\n",
    "\n",
    "df_sixes=pd.DataFrame({'year': unique_years, 'average_sixes': average_sixes})\n",
    "matplotlib.pyplot.plot(df_sixes.year, df_sixes.average_sixes)"
   ]
  },
  {
   "cell_type": "code",
   "execution_count": 230,
   "metadata": {},
   "outputs": [],
   "source": [
    "#removing '*' from scores\n",
    "df['runs']=df['runs'].astype('str')\n",
    "df['runs']=df['runs'].str.rsplit('*', expand=True, n=1)\n",
    "df['runs']=df['runs'].astype('int')"
   ]
  },
  {
   "cell_type": "code",
   "execution_count": 231,
   "metadata": {},
   "outputs": [
    {
     "data": {
      "text/plain": [
       "[<matplotlib.lines.Line2D at 0x14a23b82630>]"
      ]
     },
     "execution_count": 231,
     "metadata": {},
     "output_type": "execute_result"
    },
    {
     "data": {
      "image/png": "[encoded data removed]",
      "text/plain": [
       "<matplotlib.figure.Figure at 0x14a21a3fb70>"
      ]
     },
     "metadata": {},
     "output_type": "display_data"
    }
   ],
   "source": [
    "fifties=0\n",
    "avg_fifties=pd.Series()\n",
    "for i in unique_years:\n",
    "    temp_df=df[df.year==i]\n",
    "    temp_df=temp_df.reset_index(drop=True)\n",
    "    fifties=0\n",
    "    for j in range(0,len(temp_df)):\n",
    "        if(temp_df.runs[j]>=50):\n",
    "            fifties=fifties+1\n",
    "    avg=fifties/len(temp_df)\n",
    "    avg_fifties=avg_fifties.append(pd.Series([avg]))\n",
    "\n",
    "df_fifties=pd.DataFrame({'year': unique_years, 'average_fifties': avg_fifties})\n",
    "matplotlib.pyplot.plot(df_sixes.year, df_fifties.average_fifties)"
   ]
  },
  {
   "cell_type": "code",
   "execution_count": null,
   "metadata": {},
   "outputs": [],
   "source": []
  }
 ],
 "metadata": {
  "kernelspec": {
   "display_name": "Python 3",
   "language": "python",
   "name": "python3"
  },
  "language_info": {
   "codemirror_mode": {
    "name": "ipython",
    "version": 3
   },
   "file_extension": ".py",
   "mimetype": "text/x-python",
   "name": "python",
   "nbconvert_exporter": "python",
   "pygments_lexer": "ipython3",
   "version": "3.6.4"
  }
 },
 "nbformat": 4,
 "nbformat_minor": 2
}
