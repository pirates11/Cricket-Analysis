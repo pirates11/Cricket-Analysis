{
 "cells": [
  {
   "cell_type": "code",
   "execution_count": 1,
   "metadata": {},
   "outputs": [],
   "source": [
    "import pandas as pd\n",
    "import numpy as np\n",
    "from matplotlib.pyplot import *"
   ]
  },
  {
   "cell_type": "code",
   "execution_count": 12,
   "metadata": {},
   "outputs": [],
   "source": [
    "df=pd.read_csv(r\"C:\\Users\\krris\\Desktop\\XLRI-Cricket\\Final datasets(Parma)\\bowling.csv\", sep=',')"
   ]
  },
  {
   "cell_type": "code",
   "execution_count": 7,
   "metadata": {
    "scrolled": true
   },
   "outputs": [
    {
     "data": {
      "text/plain": [
       "Index(['names', 'overs', 'BPO', 'mdns', 'runs', 'wkts', 'econ', 'inns',\n",
       "       'opposition', 'Ground', 'SDate', 'Unnamed: 11'],\n",
       "      dtype='object')"
      ]
     },
     "execution_count": 7,
     "metadata": {},
     "output_type": "execute_result"
    }
   ],
   "source": [
    "df.columns"
   ]
  },
  {
   "cell_type": "code",
   "execution_count": 21,
   "metadata": {},
   "outputs": [],
   "source": [
    "df=df.rename(index=str, columns={\"Unnamed: 11\": \"year\"})"
   ]
  },
  {
   "cell_type": "code",
   "execution_count": 23,
   "metadata": {},
   "outputs": [],
   "source": [
    "unique_years=df.year.unique()"
   ]
  },
  {
   "cell_type": "code",
   "execution_count": 24,
   "metadata": {},
   "outputs": [
    {
     "data": {
      "text/plain": [
       "array([1971, 1972, 1973, 1974, 1975, 1976, 1977, 1978, 1979, 1980, 1981,\n",
       "       1982, 1983, 1984, 1985, 1986, 1987, 1988, 1989, 1990, 1991, 1992,\n",
       "       1993, 1994, 1995, 1996, 1997, 1998, 1999, 2000, 2001, 2002, 2003,\n",
       "       2004, 2005, 2006, 2007, 2008, 2009, 2010, 2011, 2012, 2013, 2014,\n",
       "       2015, 2016, 2017, 2018], dtype=int64)"
      ]
     },
     "execution_count": 24,
     "metadata": {},
     "output_type": "execute_result"
    }
   ],
   "source": [
    "unique_years"
   ]
  },
  {
   "cell_type": "code",
   "execution_count": 8,
   "metadata": {},
   "outputs": [
    {
     "name": "stdout",
     "output_type": "stream",
     "text": [
      "<class 'pandas.core.frame.DataFrame'>\n",
      "RangeIndex: 47960 entries, 0 to 47959\n",
      "Data columns (total 12 columns):\n",
      "names          47960 non-null object\n",
      "overs          47960 non-null float64\n",
      "BPO            47960 non-null int64\n",
      "mdns           47960 non-null int64\n",
      "runs           47960 non-null int64\n",
      "wkts           47960 non-null int64\n",
      "econ           47960 non-null object\n",
      "inns           47960 non-null int64\n",
      "opposition     47960 non-null object\n",
      "Ground         47960 non-null object\n",
      "SDate          47960 non-null object\n",
      "Unnamed: 11    47960 non-null int64\n",
      "dtypes: float64(1), int64(6), object(5)\n",
      "memory usage: 4.4+ MB\n"
     ]
    }
   ],
   "source": [
    "df.info()"
   ]
  },
  {
   "cell_type": "code",
   "execution_count": 11,
   "metadata": {},
   "outputs": [],
   "source": [
    "df['econ']=df['econ'].astype('str')"
   ]
  },
  {
   "cell_type": "code",
   "execution_count": 13,
   "metadata": {},
   "outputs": [
    {
     "data": {
      "text/plain": [
       "47960"
      ]
     },
     "execution_count": 13,
     "metadata": {},
     "output_type": "execute_result"
    }
   ],
   "source": [
    "len(df)"
   ]
  },
  {
   "cell_type": "code",
   "execution_count": 14,
   "metadata": {},
   "outputs": [],
   "source": [
    "df=df[df.econ!='-']"
   ]
  },
  {
   "cell_type": "code",
   "execution_count": 15,
   "metadata": {},
   "outputs": [
    {
     "data": {
      "text/plain": [
       "47956"
      ]
     },
     "execution_count": 15,
     "metadata": {},
     "output_type": "execute_result"
    }
   ],
   "source": [
    "len(df)"
   ]
  },
  {
   "cell_type": "code",
   "execution_count": 16,
   "metadata": {},
   "outputs": [],
   "source": [
    "df['econ']=df['econ'].astype('float')"
   ]
  },
  {
   "cell_type": "code",
   "execution_count": 26,
   "metadata": {},
   "outputs": [
    {
     "data": {
      "text/plain": [
       "<matplotlib.collections.PathCollection at 0x11acfa7bbe0>"
      ]
     },
     "execution_count": 26,
     "metadata": {},
     "output_type": "execute_result"
    },
    {
     "data": {
      "image/png": "[encoded data removed]",
      "text/plain": [
       "<matplotlib.figure.Figure at 0x11ad0894278>"
      ]
     },
     "metadata": {},
     "output_type": "display_data"
    }
   ],
   "source": [
    "average_econ=pd.Series()\n",
    "for i in unique_years:\n",
    "    temp_df=df[df.year==i]\n",
    "    total_sr=sum(temp_df.econ)\n",
    "    avg=total_sr/len(temp_df)\n",
    "    average_econ=average_econ.append(pd.Series([avg]))\n",
    "    \n",
    "df_econ=pd.DataFrame({'year': unique_years, 'average_econ': average_econ})\n",
    "matplotlib.pyplot.scatter(df_econ.year, df_econ.average_econ)"
   ]
  },
  {
   "cell_type": "code",
   "execution_count": 27,
   "metadata": {},
   "outputs": [
    {
     "name": "stdout",
     "output_type": "stream",
     "text": [
      "<class 'pandas.core.frame.DataFrame'>\n",
      "Index: 47956 entries, 0 to 47959\n",
      "Data columns (total 12 columns):\n",
      "names         47956 non-null object\n",
      "overs         47956 non-null float64\n",
      "BPO           47956 non-null int64\n",
      "mdns          47956 non-null int64\n",
      "runs          47956 non-null int64\n",
      "wkts          47956 non-null int64\n",
      "econ          47956 non-null float64\n",
      "inns          47956 non-null int64\n",
      "opposition    47956 non-null object\n",
      "Ground        47956 non-null object\n",
      "SDate         47956 non-null object\n",
      "year          47956 non-null int64\n",
      "dtypes: float64(2), int64(6), object(4)\n",
      "memory usage: 4.8+ MB\n"
     ]
    }
   ],
   "source": [
    "df.info()"
   ]
  },
  {
   "cell_type": "code",
   "execution_count": 28,
   "metadata": {},
   "outputs": [
    {
     "data": {
      "text/html": [
       "<div>\n",
       "<style scoped>\n",
       "    .dataframe tbody tr th:only-of-type {\n",
       "        vertical-align: middle;\n",
       "    }\n",
       "\n",
       "    .dataframe tbody tr th {\n",
       "        vertical-align: top;\n",
       "    }\n",
       "\n",
       "    .dataframe thead th {\n",
       "        text-align: right;\n",
       "    }\n",
       "</style>\n",
       "<table border=\"1\" class=\"dataframe\">\n",
       "  <thead>\n",
       "    <tr style=\"text-align: right;\">\n",
       "      <th></th>\n",
       "      <th>names</th>\n",
       "      <th>overs</th>\n",
       "      <th>BPO</th>\n",
       "      <th>mdns</th>\n",
       "      <th>runs</th>\n",
       "      <th>wkts</th>\n",
       "      <th>econ</th>\n",
       "      <th>inns</th>\n",
       "      <th>opposition</th>\n",
       "      <th>Ground</th>\n",
       "      <th>SDate</th>\n",
       "      <th>year</th>\n",
       "    </tr>\n",
       "  </thead>\n",
       "  <tbody>\n",
       "    <tr>\n",
       "      <th>0</th>\n",
       "      <td>AA Mallett (AUS)</td>\n",
       "      <td>8.0</td>\n",
       "      <td>8</td>\n",
       "      <td>1</td>\n",
       "      <td>34</td>\n",
       "      <td>3</td>\n",
       "      <td>3.18</td>\n",
       "      <td>1</td>\n",
       "      <td>v England</td>\n",
       "      <td>Melbourne</td>\n",
       "      <td>05-Jan-71</td>\n",
       "      <td>1971</td>\n",
       "    </tr>\n",
       "    <tr>\n",
       "      <th>1</th>\n",
       "      <td>KR Stackpole (AUS)</td>\n",
       "      <td>8.0</td>\n",
       "      <td>8</td>\n",
       "      <td>0</td>\n",
       "      <td>40</td>\n",
       "      <td>3</td>\n",
       "      <td>3.75</td>\n",
       "      <td>1</td>\n",
       "      <td>v England</td>\n",
       "      <td>Melbourne</td>\n",
       "      <td>05-Jan-71</td>\n",
       "      <td>1971</td>\n",
       "    </tr>\n",
       "    <tr>\n",
       "      <th>2</th>\n",
       "      <td>R Illingworth (ENG)</td>\n",
       "      <td>8.0</td>\n",
       "      <td>8</td>\n",
       "      <td>1</td>\n",
       "      <td>50</td>\n",
       "      <td>3</td>\n",
       "      <td>4.68</td>\n",
       "      <td>2</td>\n",
       "      <td>v Australia</td>\n",
       "      <td>Melbourne</td>\n",
       "      <td>05-Jan-71</td>\n",
       "      <td>1971</td>\n",
       "    </tr>\n",
       "    <tr>\n",
       "      <th>3</th>\n",
       "      <td>GD McKenzie (AUS)</td>\n",
       "      <td>7.4</td>\n",
       "      <td>8</td>\n",
       "      <td>0</td>\n",
       "      <td>22</td>\n",
       "      <td>2</td>\n",
       "      <td>2.20</td>\n",
       "      <td>1</td>\n",
       "      <td>v England</td>\n",
       "      <td>Melbourne</td>\n",
       "      <td>05-Jan-71</td>\n",
       "      <td>1971</td>\n",
       "    </tr>\n",
       "    <tr>\n",
       "      <th>4</th>\n",
       "      <td>AL Thomson (AUS)</td>\n",
       "      <td>8.0</td>\n",
       "      <td>8</td>\n",
       "      <td>2</td>\n",
       "      <td>22</td>\n",
       "      <td>1</td>\n",
       "      <td>2.06</td>\n",
       "      <td>1</td>\n",
       "      <td>v England</td>\n",
       "      <td>Melbourne</td>\n",
       "      <td>05-Jan-71</td>\n",
       "      <td>1971</td>\n",
       "    </tr>\n",
       "  </tbody>\n",
       "</table>\n",
       "</div>"
      ],
      "text/plain": [
       "                 names  overs  BPO  mdns  runs  wkts  econ  inns   opposition  \\\n",
       "0     AA Mallett (AUS)    8.0    8     1    34     3  3.18     1    v England   \n",
       "1   KR Stackpole (AUS)    8.0    8     0    40     3  3.75     1    v England   \n",
       "2  R Illingworth (ENG)    8.0    8     1    50     3  4.68     2  v Australia   \n",
       "3    GD McKenzie (AUS)    7.4    8     0    22     2  2.20     1    v England   \n",
       "4     AL Thomson (AUS)    8.0    8     2    22     1  2.06     1    v England   \n",
       "\n",
       "      Ground      SDate  year  \n",
       "0  Melbourne  05-Jan-71  1971  \n",
       "1  Melbourne  05-Jan-71  1971  \n",
       "2  Melbourne  05-Jan-71  1971  \n",
       "3  Melbourne  05-Jan-71  1971  \n",
       "4  Melbourne  05-Jan-71  1971  "
      ]
     },
     "execution_count": 28,
     "metadata": {},
     "output_type": "execute_result"
    }
   ],
   "source": [
    "df.head()"
   ]
  },
  {
   "cell_type": "code",
   "execution_count": 38,
   "metadata": {},
   "outputs": [
    {
     "data": {
      "text/plain": [
       "[<matplotlib.lines.Line2D at 0x11ad09efd30>]"
      ]
     },
     "execution_count": 38,
     "metadata": {},
     "output_type": "execute_result"
    },
    {
     "data": {
      "image/png": "[encoded data removed]",
      "text/plain": [
       "<matplotlib.figure.Figure at 0x11ad09b5f60>"
      ]
     },
     "metadata": {},
     "output_type": "display_data"
    }
   ],
   "source": [
    "avg_runs=pd.Series()\n",
    "for i in unique_years:\n",
    "    temp_df=df[df.year==i]\n",
    "    total_sr=sum(temp_df.runs)\n",
    "    avg=total_sr/len(temp_df)\n",
    "    avg_runs=avg_runs.append(pd.Series([avg]))\n",
    "    \n",
    "df_avgRuns=pd.DataFrame({'year': unique_years, 'avg_runs': avg_runs})\n",
    "matplotlib.pyplot.plot(df_avgRuns.year, df_avgRuns.avg_runs)"
   ]
  },
  {
   "cell_type": "code",
   "execution_count": 32,
   "metadata": {},
   "outputs": [
    {
     "data": {
      "text/html": [
       "<div>\n",
       "<style scoped>\n",
       "    .dataframe tbody tr th:only-of-type {\n",
       "        vertical-align: middle;\n",
       "    }\n",
       "\n",
       "    .dataframe tbody tr th {\n",
       "        vertical-align: top;\n",
       "    }\n",
       "\n",
       "    .dataframe thead th {\n",
       "        text-align: right;\n",
       "    }\n",
       "</style>\n",
       "<table border=\"1\" class=\"dataframe\">\n",
       "  <thead>\n",
       "    <tr style=\"text-align: right;\">\n",
       "      <th></th>\n",
       "      <th>names</th>\n",
       "      <th>overs</th>\n",
       "      <th>BPO</th>\n",
       "      <th>mdns</th>\n",
       "      <th>runs</th>\n",
       "      <th>wkts</th>\n",
       "      <th>econ</th>\n",
       "      <th>inns</th>\n",
       "      <th>opposition</th>\n",
       "      <th>Ground</th>\n",
       "      <th>SDate</th>\n",
       "      <th>year</th>\n",
       "    </tr>\n",
       "  </thead>\n",
       "  <tbody>\n",
       "    <tr>\n",
       "      <th>0</th>\n",
       "      <td>AA Mallett (AUS)</td>\n",
       "      <td>8.0</td>\n",
       "      <td>8</td>\n",
       "      <td>1</td>\n",
       "      <td>34</td>\n",
       "      <td>3</td>\n",
       "      <td>3.18</td>\n",
       "      <td>1</td>\n",
       "      <td>v England</td>\n",
       "      <td>Melbourne</td>\n",
       "      <td>05-Jan-71</td>\n",
       "      <td>1971</td>\n",
       "    </tr>\n",
       "    <tr>\n",
       "      <th>1</th>\n",
       "      <td>KR Stackpole (AUS)</td>\n",
       "      <td>8.0</td>\n",
       "      <td>8</td>\n",
       "      <td>0</td>\n",
       "      <td>40</td>\n",
       "      <td>3</td>\n",
       "      <td>3.75</td>\n",
       "      <td>1</td>\n",
       "      <td>v England</td>\n",
       "      <td>Melbourne</td>\n",
       "      <td>05-Jan-71</td>\n",
       "      <td>1971</td>\n",
       "    </tr>\n",
       "    <tr>\n",
       "      <th>2</th>\n",
       "      <td>R Illingworth (ENG)</td>\n",
       "      <td>8.0</td>\n",
       "      <td>8</td>\n",
       "      <td>1</td>\n",
       "      <td>50</td>\n",
       "      <td>3</td>\n",
       "      <td>4.68</td>\n",
       "      <td>2</td>\n",
       "      <td>v Australia</td>\n",
       "      <td>Melbourne</td>\n",
       "      <td>05-Jan-71</td>\n",
       "      <td>1971</td>\n",
       "    </tr>\n",
       "    <tr>\n",
       "      <th>3</th>\n",
       "      <td>GD McKenzie (AUS)</td>\n",
       "      <td>7.4</td>\n",
       "      <td>8</td>\n",
       "      <td>0</td>\n",
       "      <td>22</td>\n",
       "      <td>2</td>\n",
       "      <td>2.20</td>\n",
       "      <td>1</td>\n",
       "      <td>v England</td>\n",
       "      <td>Melbourne</td>\n",
       "      <td>05-Jan-71</td>\n",
       "      <td>1971</td>\n",
       "    </tr>\n",
       "    <tr>\n",
       "      <th>4</th>\n",
       "      <td>AL Thomson (AUS)</td>\n",
       "      <td>8.0</td>\n",
       "      <td>8</td>\n",
       "      <td>2</td>\n",
       "      <td>22</td>\n",
       "      <td>1</td>\n",
       "      <td>2.06</td>\n",
       "      <td>1</td>\n",
       "      <td>v England</td>\n",
       "      <td>Melbourne</td>\n",
       "      <td>05-Jan-71</td>\n",
       "      <td>1971</td>\n",
       "    </tr>\n",
       "  </tbody>\n",
       "</table>\n",
       "</div>"
      ],
      "text/plain": [
       "                 names  overs  BPO  mdns  runs  wkts  econ  inns   opposition  \\\n",
       "0     AA Mallett (AUS)    8.0    8     1    34     3  3.18     1    v England   \n",
       "1   KR Stackpole (AUS)    8.0    8     0    40     3  3.75     1    v England   \n",
       "2  R Illingworth (ENG)    8.0    8     1    50     3  4.68     2  v Australia   \n",
       "3    GD McKenzie (AUS)    7.4    8     0    22     2  2.20     1    v England   \n",
       "4     AL Thomson (AUS)    8.0    8     2    22     1  2.06     1    v England   \n",
       "\n",
       "      Ground      SDate  year  \n",
       "0  Melbourne  05-Jan-71  1971  \n",
       "1  Melbourne  05-Jan-71  1971  \n",
       "2  Melbourne  05-Jan-71  1971  \n",
       "3  Melbourne  05-Jan-71  1971  \n",
       "4  Melbourne  05-Jan-71  1971  "
      ]
     },
     "execution_count": 32,
     "metadata": {},
     "output_type": "execute_result"
    }
   ],
   "source": [
    "df.head()"
   ]
  },
  {
   "cell_type": "code",
   "execution_count": 33,
   "metadata": {},
   "outputs": [
    {
     "name": "stdout",
     "output_type": "stream",
     "text": [
      "<class 'pandas.core.frame.DataFrame'>\n",
      "Index: 47956 entries, 0 to 47959\n",
      "Data columns (total 12 columns):\n",
      "names         47956 non-null object\n",
      "overs         47956 non-null float64\n",
      "BPO           47956 non-null int64\n",
      "mdns          47956 non-null int64\n",
      "runs          47956 non-null int64\n",
      "wkts          47956 non-null int64\n",
      "econ          47956 non-null float64\n",
      "inns          47956 non-null int64\n",
      "opposition    47956 non-null object\n",
      "Ground        47956 non-null object\n",
      "SDate         47956 non-null object\n",
      "year          47956 non-null int64\n",
      "dtypes: float64(2), int64(6), object(4)\n",
      "memory usage: 4.8+ MB\n"
     ]
    }
   ],
   "source": [
    "df.info()"
   ]
  },
  {
   "cell_type": "code",
   "execution_count": 34,
   "metadata": {},
   "outputs": [
    {
     "data": {
      "text/plain": [
       "<matplotlib.collections.PathCollection at 0x11ad08e0438>"
      ]
     },
     "execution_count": 34,
     "metadata": {},
     "output_type": "execute_result"
    },
    {
     "data": {
      "image/png": "[encoded data removed]",
      "text/plain": [
       "<matplotlib.figure.Figure at 0x11acfac53c8>"
      ]
     },
     "metadata": {},
     "output_type": "display_data"
    }
   ],
   "source": [
    "avg_wickets=pd.Series()\n",
    "for i in unique_years:\n",
    "    temp_df=df[df.year==i]\n",
    "    total_sr=sum(temp_df.wkts)\n",
    "    avg=total_sr/len(temp_df)\n",
    "    avg_wickets=avg_wickets.append(pd.Series([avg]))\n",
    "    \n",
    "df_avgWickets=pd.DataFrame({'year': unique_years, 'avg_wickets': avg_wickets})\n",
    "matplotlib.pyplot.scatter(df_avgWickets.year, df_avgWickets.avg_wickets)"
   ]
  },
  {
   "cell_type": "code",
   "execution_count": 35,
   "metadata": {},
   "outputs": [
    {
     "data": {
      "text/plain": [
       "<matplotlib.collections.PathCollection at 0x11ad0939e80>"
      ]
     },
     "execution_count": 35,
     "metadata": {},
     "output_type": "execute_result"
    },
    {
     "data": {
      "image/png": "[encoded data removed]",
      "text/plain": [
       "<matplotlib.figure.Figure at 0x11ad08be470>"
      ]
     },
     "metadata": {},
     "output_type": "display_data"
    }
   ],
   "source": [
    "avg_maidens=pd.Series()\n",
    "for i in unique_years:\n",
    "    temp_df=df[df.year==i]\n",
    "    total_sr=sum(temp_df.mdns)\n",
    "    avg=total_sr/len(temp_df)\n",
    "    avg_maidens=avg_maidens.append(pd.Series([avg]))\n",
    "    \n",
    "df_avgMaidens=pd.DataFrame({'year': unique_years, 'avg_maidens': avg_maidens})\n",
    "matplotlib.pyplot.scatter(df_avgMaidens.year, df_avgMaidens.avg_maidens)"
   ]
  },
  {
   "cell_type": "code",
   "execution_count": 37,
   "metadata": {},
   "outputs": [
    {
     "data": {
      "text/plain": [
       "[<matplotlib.lines.Line2D at 0x11ad0991c88>]"
      ]
     },
     "execution_count": 37,
     "metadata": {},
     "output_type": "execute_result"
    },
    {
     "data": {
      "image/png": "[encoded data removed]",
      "text/plain": [
       "<matplotlib.figure.Figure at 0x11acda1e6d8>"
      ]
     },
     "metadata": {},
     "output_type": "display_data"
    }
   ],
   "source": [
    "matplotlib.pyplot.plot(df_avgMaidens.year, df_avgMaidens.avg_maidens)"
   ]
  },
  {
   "cell_type": "code",
   "execution_count": null,
   "metadata": {},
   "outputs": [],
   "source": []
  }
 ],
 "metadata": {
  "kernelspec": {
   "display_name": "Python 3",
   "language": "python",
   "name": "python3"
  },
  "language_info": {
   "codemirror_mode": {
    "name": "ipython",
    "version": 3
   },
   "file_extension": ".py",
   "mimetype": "text/x-python",
   "name": "python",
   "nbconvert_exporter": "python",
   "pygments_lexer": "ipython3",
   "version": "3.6.4"
  }
 },
 "nbformat": 4,
 "nbformat_minor": 2
}
